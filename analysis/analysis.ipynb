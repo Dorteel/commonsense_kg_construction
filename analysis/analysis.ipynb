{
 "cells": [
  {
   "cell_type": "markdown",
   "id": "b5e36f90",
   "metadata": {},
   "source": [
    "# Analysing Outputs\n",
    "\n",
    "1. Creating Aggregated Data For each type of experiment:\n",
    "    - Averages\n",
    "    - Ranges\n",
    "    - Context\n",
    "\n",
    "We want to output three files, one for each type, together with some summary of the data, ideally one for each model."
   ]
  },
  {
   "cell_type": "code",
   "execution_count": null,
   "id": "460b161f",
   "metadata": {},
   "outputs": [],
   "source": []
  },
  {
   "cell_type": "code",
   "execution_count": null,
   "id": "19425218",
   "metadata": {},
   "outputs": [],
   "source": []
  }
 ],
 "metadata": {
  "language_info": {
   "name": "python"
  }
 },
 "nbformat": 4,
 "nbformat_minor": 5
}
